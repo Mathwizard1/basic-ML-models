{
 "cells": [
  {
   "cell_type": "code",
   "execution_count": 367,
   "id": "25e950a9",
   "metadata": {},
   "outputs": [],
   "source": [
    "import pandas as pd\n",
    "import numpy as np\n",
    "import matplotlib.pyplot as plt\n",
    "\n",
    "from sklearn.model_selection import train_test_split\n",
    "from collections import namedtuple\n",
    "from sklearn.naive_bayes import GaussianNB\n",
    "from sklearn.metrics import confusion_matrix, classification_report, ConfusionMatrixDisplay"
   ]
  },
  {
   "cell_type": "markdown",
   "id": "3d86c112",
   "metadata": {},
   "source": [
    "#### PreProcessing Iris"
   ]
  },
  {
   "cell_type": "code",
   "execution_count": 368,
   "id": "b7eb0d71",
   "metadata": {},
   "outputs": [
    {
     "name": "stdout",
     "output_type": "stream",
     "text": [
      "<class 'pandas.core.frame.DataFrame'>\n",
      "RangeIndex: 150 entries, 0 to 149\n",
      "Data columns (total 5 columns):\n",
      " #   Column        Non-Null Count  Dtype  \n",
      "---  ------        --------------  -----  \n",
      " 0   sepal_length  150 non-null    float64\n",
      " 1   sepal_width   150 non-null    float64\n",
      " 2   petal_length  150 non-null    float64\n",
      " 3   petal_width   150 non-null    float64\n",
      " 4   species       150 non-null    object \n",
      "dtypes: float64(4), object(1)\n",
      "memory usage: 6.0+ KB\n"
     ]
    }
   ],
   "source": [
    "IRIS = pd.read_csv(\"../iris.csv\")\n",
    "IRIS.info()"
   ]
  },
  {
   "cell_type": "code",
   "execution_count": 369,
   "id": "d51594bb",
   "metadata": {},
   "outputs": [
    {
     "name": "stdout",
     "output_type": "stream",
     "text": [
      "sepal_length Stats\n",
      "mean:5.843333333333334 std:0.828066127977863 max:7.9 min:4.3\n",
      "sepal_width Stats\n",
      "mean:3.0540000000000003 std:0.4335943113621737 max:4.4 min:2.0\n",
      "petal_length Stats\n",
      "mean:3.758666666666666 std:1.7644204199522626 max:6.9 min:1.0\n",
      "petal_width Stats\n",
      "mean:1.1986666666666668 std:0.7631607417008411 max:2.5 min:0.1\n"
     ]
    }
   ],
   "source": [
    "IRIS.columns = list(IRIS.columns[:-1]) + ['Labels']\n",
    "for column in IRIS.columns:\n",
    "    if(column == 'Labels'): break\n",
    "    print(f\"{column} Stats\\nmean:{IRIS[column].mean()} std:{IRIS[column].std()} max:{IRIS[column].max()} min:{IRIS[column].min()}\")"
   ]
  },
  {
   "cell_type": "code",
   "execution_count": 370,
   "id": "45257e52",
   "metadata": {},
   "outputs": [],
   "source": [
    "IRIS_y = IRIS['Labels']\n",
    "IRIS_X = IRIS.drop(columns= 'Labels')"
   ]
  },
  {
   "cell_type": "markdown",
   "id": "bc8d24ba",
   "metadata": {},
   "source": [
    "#### PreProcessing Diabetes"
   ]
  },
  {
   "cell_type": "code",
   "execution_count": 371,
   "id": "94c35252",
   "metadata": {},
   "outputs": [
    {
     "name": "stdout",
     "output_type": "stream",
     "text": [
      "<class 'pandas.core.frame.DataFrame'>\n",
      "RangeIndex: 768 entries, 0 to 767\n",
      "Data columns (total 9 columns):\n",
      " #   Column                    Non-Null Count  Dtype  \n",
      "---  ------                    --------------  -----  \n",
      " 0   Pregnancies               768 non-null    int64  \n",
      " 1   Glucose                   768 non-null    int64  \n",
      " 2   BloodPressure             768 non-null    int64  \n",
      " 3   SkinThickness             768 non-null    int64  \n",
      " 4   Insulin                   768 non-null    int64  \n",
      " 5   BMI                       768 non-null    float64\n",
      " 6   DiabetesPedigreeFunction  768 non-null    float64\n",
      " 7   Age                       768 non-null    int64  \n",
      " 8   Outcome                   768 non-null    int64  \n",
      "dtypes: float64(2), int64(7)\n",
      "memory usage: 54.1 KB\n"
     ]
    }
   ],
   "source": [
    "DIAB = pd.read_csv('diabetes.csv')\n",
    "DIAB.info()"
   ]
  },
  {
   "cell_type": "code",
   "execution_count": 372,
   "id": "4205caba",
   "metadata": {},
   "outputs": [
    {
     "name": "stdout",
     "output_type": "stream",
     "text": [
      "Pregnancies Stats\n",
      "mean:3.8450520833333335 std:3.3695780626988694 max:17 min:0\n",
      "Glucose Stats\n",
      "mean:120.89453125 std:31.97261819513622 max:199 min:0\n",
      "BloodPressure Stats\n",
      "mean:69.10546875 std:19.355807170644777 max:122 min:0\n",
      "SkinThickness Stats\n",
      "mean:20.536458333333332 std:15.952217567727637 max:99 min:0\n",
      "Insulin Stats\n",
      "mean:79.79947916666667 std:115.24400235133817 max:846 min:0\n",
      "BMI Stats\n",
      "mean:31.992578124999998 std:7.884160320375446 max:67.1 min:0.0\n",
      "DiabetesPedigreeFunction Stats\n",
      "mean:0.47187630208333325 std:0.3313285950127749 max:2.42 min:0.078\n",
      "Age Stats\n",
      "mean:33.240885416666664 std:11.760231540678685 max:81 min:21\n"
     ]
    }
   ],
   "source": [
    "DIAB.columns = list(DIAB.columns[:-1]) + ['Labels']\n",
    "for column in DIAB.columns:\n",
    "    if(column == 'Labels'): break\n",
    "    print(f\"{column} Stats\\nmean:{DIAB[column].mean()} std:{DIAB[column].std()} max:{DIAB[column].max()} min:{DIAB[column].min()}\")"
   ]
  },
  {
   "cell_type": "code",
   "execution_count": 373,
   "id": "6159f67f",
   "metadata": {},
   "outputs": [],
   "source": [
    "DIAB_y = DIAB['Labels']\n",
    "DIAB_X = DIAB.drop(columns= 'Labels')"
   ]
  },
  {
   "cell_type": "markdown",
   "id": "a75b5645",
   "metadata": {},
   "source": [
    "### Naive Bayes\n",
    "Gaussian for continous data distribution"
   ]
  },
  {
   "cell_type": "code",
   "execution_count": 374,
   "id": "fe034c6a",
   "metadata": {},
   "outputs": [
    {
     "name": "stdout",
     "output_type": "stream",
     "text": [
      "sepal_length       5.0\n",
      "sepal_width        3.4\n",
      "petal_length       1.5\n",
      "petal_width        0.2\n",
      "Labels          setosa\n",
      "Name: 7, dtype: object\n",
      "        Label             P\n",
      "0      setosa  3.036604e+00\n",
      "1  versicolor  4.250122e-17\n",
      "2   virginica  2.495826e-24\n"
     ]
    },
    {
     "data": {
      "text/plain": [
       "'setosa'"
      ]
     },
     "execution_count": 374,
     "metadata": {},
     "output_type": "execute_result"
    }
   ],
   "source": [
    "class NaiveBayes:\n",
    "    LabelVal = namedtuple('LabelVal', ['Label', 'count'])\n",
    "    FeatureVal = namedtuple('FeatureVal', ['Feature', 'Mu', 'Std'])\n",
    "\n",
    "    def __init__(self, dataframe: pd.DataFrame):\n",
    "        self.gaussian_data = {}\n",
    "        self.counts = len(dataframe)\n",
    "\n",
    "        for label in dataframe['Labels'].unique():\n",
    "            localframe = dataframe[dataframe['Labels'] == label]\n",
    "            key = self.LabelVal(label, len(localframe))\n",
    "            self.gaussian_data[key] = []\n",
    "            for feature in dataframe.columns:\n",
    "                if(feature == 'Labels'): break\n",
    "                self.gaussian_data[key].append(self.FeatureVal(feature, localframe[feature].mean(), \n",
    "                                                            localframe[feature].std()))\n",
    "\n",
    "    def print_data(self):\n",
    "        for key in self.gaussian_data:\n",
    "            print(key, self.gaussian_data[key])\n",
    "\n",
    "    def test_database(self, test_dataframe: pd.DataFrame):\n",
    "        test_prediction = []\n",
    "\n",
    "        for idx, datarow in test_dataframe.iterrows():\n",
    "            datatuple = pd.Series(datarow)\n",
    "            prediction = self.predict(datatuple)\n",
    "            test_prediction.append(prediction['Label'])\n",
    "        return test_prediction\n",
    "\n",
    "\n",
    "    def predict(self, datarow: pd.Series, print_class_prob= False):\n",
    "        prediction_Prob = {'Label': [], 'P': []}\n",
    "\n",
    "        for key in self.gaussian_data:\n",
    "            label_data = self.gaussian_data[key]\n",
    "            prediction = 1.0\n",
    "            for data, feature_tuple in zip(datarow, label_data):\n",
    "                prediction = prediction * self.gaussianProb(data, feature_tuple.Mu, feature_tuple.Std)\n",
    "            prediction *= key.count / self.counts\n",
    "            prediction_Prob['Label'].append(key.Label)\n",
    "            prediction_Prob['P'].append(prediction)\n",
    "        prediction_Prob = pd.DataFrame.from_dict(prediction_Prob)\n",
    "        \n",
    "        if(print_class_prob):\n",
    "            print(prediction_Prob)\n",
    "        return prediction_Prob.iloc[prediction_Prob['P'].idxmax()]\n",
    "\n",
    "    def gaussianProb(self, x, mu, std):\n",
    "        return 1 / (std * np.sqrt(2 * np.pi)) * np.exp(-(x - mu) ** 2 / (2 * std ** 2))\n",
    "\n",
    "NB_IRIS = NaiveBayes(IRIS)\n",
    "data = IRIS.iloc[7]\n",
    "print(data)\n",
    "NB_IRIS.predict(data, True)['Label']"
   ]
  },
  {
   "cell_type": "markdown",
   "id": "feee8a4d",
   "metadata": {},
   "source": [
    "#### Iris dataset"
   ]
  },
  {
   "cell_type": "code",
   "execution_count": 375,
   "id": "74f221f8",
   "metadata": {},
   "outputs": [
    {
     "data": {
      "text/html": [
       "<div>\n",
       "<style scoped>\n",
       "    .dataframe tbody tr th:only-of-type {\n",
       "        vertical-align: middle;\n",
       "    }\n",
       "\n",
       "    .dataframe tbody tr th {\n",
       "        vertical-align: top;\n",
       "    }\n",
       "\n",
       "    .dataframe thead th {\n",
       "        text-align: right;\n",
       "    }\n",
       "</style>\n",
       "<table border=\"1\" class=\"dataframe\">\n",
       "  <thead>\n",
       "    <tr style=\"text-align: right;\">\n",
       "      <th></th>\n",
       "      <th>sepal_length</th>\n",
       "      <th>sepal_width</th>\n",
       "      <th>petal_length</th>\n",
       "      <th>petal_width</th>\n",
       "      <th>Labels</th>\n",
       "    </tr>\n",
       "  </thead>\n",
       "  <tbody>\n",
       "    <tr>\n",
       "      <th>111</th>\n",
       "      <td>6.4</td>\n",
       "      <td>2.7</td>\n",
       "      <td>5.3</td>\n",
       "      <td>1.9</td>\n",
       "      <td>virginica</td>\n",
       "    </tr>\n",
       "    <tr>\n",
       "      <th>34</th>\n",
       "      <td>4.9</td>\n",
       "      <td>3.1</td>\n",
       "      <td>1.5</td>\n",
       "      <td>0.1</td>\n",
       "      <td>setosa</td>\n",
       "    </tr>\n",
       "    <tr>\n",
       "      <th>126</th>\n",
       "      <td>6.2</td>\n",
       "      <td>2.8</td>\n",
       "      <td>4.8</td>\n",
       "      <td>1.8</td>\n",
       "      <td>virginica</td>\n",
       "    </tr>\n",
       "    <tr>\n",
       "      <th>147</th>\n",
       "      <td>6.5</td>\n",
       "      <td>3.0</td>\n",
       "      <td>5.2</td>\n",
       "      <td>2.0</td>\n",
       "      <td>virginica</td>\n",
       "    </tr>\n",
       "    <tr>\n",
       "      <th>146</th>\n",
       "      <td>6.3</td>\n",
       "      <td>2.5</td>\n",
       "      <td>5.0</td>\n",
       "      <td>1.9</td>\n",
       "      <td>virginica</td>\n",
       "    </tr>\n",
       "  </tbody>\n",
       "</table>\n",
       "</div>"
      ],
      "text/plain": [
       "     sepal_length  sepal_width  petal_length  petal_width     Labels\n",
       "111           6.4          2.7           5.3          1.9  virginica\n",
       "34            4.9          3.1           1.5          0.1     setosa\n",
       "126           6.2          2.8           4.8          1.8  virginica\n",
       "147           6.5          3.0           5.2          2.0  virginica\n",
       "146           6.3          2.5           5.0          1.9  virginica"
      ]
     },
     "execution_count": 375,
     "metadata": {},
     "output_type": "execute_result"
    }
   ],
   "source": [
    "TS = 0.4\n",
    "X_train, X_test, y_train, y_test = train_test_split(IRIS_X, IRIS_y, test_size= TS)\n",
    "\n",
    "IRIS_train= pd.concat([X_train, y_train], axis= 1)\n",
    "IRIS_train.head()"
   ]
  },
  {
   "cell_type": "code",
   "execution_count": 376,
   "id": "b2eab296",
   "metadata": {},
   "outputs": [
    {
     "name": "stdout",
     "output_type": "stream",
     "text": [
      "1\n"
     ]
    }
   ],
   "source": [
    "NB_IRIS = NaiveBayes(IRIS_train)\n",
    "y_pred = NB_IRIS.test_database(X_test)\n",
    "\n",
    "count = 0\n",
    "for a,b in zip(y_pred, y_test):\n",
    "    if(a != b): count += 1\n",
    "print(count)"
   ]
  },
  {
   "cell_type": "code",
   "execution_count": 377,
   "id": "f67c6fe8",
   "metadata": {},
   "outputs": [
    {
     "data": {
      "image/png": "[encoded data removed]",
      "text/plain": [
       "<Figure size 640x480 with 2 Axes>"
      ]
     },
     "metadata": {},
     "output_type": "display_data"
    }
   ],
   "source": [
    "cm = confusion_matrix(y_test, y_pred)\n",
    "disp = ConfusionMatrixDisplay(confusion_matrix=cm)\n",
    "disp.plot()\n",
    "plt.title('Confusion Matrix')\n",
    "plt.show()"
   ]
  },
  {
   "cell_type": "code",
   "execution_count": 378,
   "id": "f004328e",
   "metadata": {},
   "outputs": [
    {
     "name": "stdout",
     "output_type": "stream",
     "text": [
      "              precision    recall  f1-score   support\n",
      "\n",
      "      setosa       1.00      1.00      1.00        22\n",
      "  versicolor       0.94      1.00      0.97        16\n",
      "   virginica       1.00      0.95      0.98        22\n",
      "\n",
      "    accuracy                           0.98        60\n",
      "   macro avg       0.98      0.98      0.98        60\n",
      "weighted avg       0.98      0.98      0.98        60\n",
      "\n"
     ]
    }
   ],
   "source": [
    "print(classification_report(y_test, y_pred))"
   ]
  },
  {
   "cell_type": "code",
   "execution_count": 379,
   "id": "b40ac7ee",
   "metadata": {},
   "outputs": [
    {
     "name": "stdout",
     "output_type": "stream",
     "text": [
      "Number of mislabeled points out of a total 60 points : 1\n"
     ]
    }
   ],
   "source": [
    "gnb = GaussianNB()\n",
    "y_pred = gnb.fit(X_train, y_train).predict(X_test)\n",
    "print(\"Number of mislabeled points out of a total %d points : %d\"\n",
    "      % (X_test.shape[0], (y_test != y_pred).sum()))"
   ]
  },
  {
   "cell_type": "code",
   "execution_count": 380,
   "id": "6dcf4ea7",
   "metadata": {},
   "outputs": [
    {
     "data": {
      "image/png": "[encoded data removed]",
      "text/plain": [
       "<Figure size 640x480 with 2 Axes>"
      ]
     },
     "metadata": {},
     "output_type": "display_data"
    }
   ],
   "source": [
    "cm = confusion_matrix(y_test, y_pred)\n",
    "disp = ConfusionMatrixDisplay(confusion_matrix=cm)\n",
    "disp.plot()\n",
    "plt.title('Confusion Matrix')\n",
    "plt.show()"
   ]
  },
  {
   "cell_type": "code",
   "execution_count": 381,
   "id": "6607823f",
   "metadata": {},
   "outputs": [
    {
     "name": "stdout",
     "output_type": "stream",
     "text": [
      "              precision    recall  f1-score   support\n",
      "\n",
      "      setosa       1.00      1.00      1.00        22\n",
      "  versicolor       0.94      1.00      0.97        16\n",
      "   virginica       1.00      0.95      0.98        22\n",
      "\n",
      "    accuracy                           0.98        60\n",
      "   macro avg       0.98      0.98      0.98        60\n",
      "weighted avg       0.98      0.98      0.98        60\n",
      "\n"
     ]
    }
   ],
   "source": [
    "print(classification_report(y_test, y_pred))"
   ]
  },
  {
   "cell_type": "markdown",
   "id": "cca068b2",
   "metadata": {},
   "source": [
    "### Diabetes dataset"
   ]
  },
  {
   "cell_type": "code",
   "execution_count": 382,
   "id": "0dc15c40",
   "metadata": {},
   "outputs": [
    {
     "data": {
      "text/html": [
       "<div>\n",
       "<style scoped>\n",
       "    .dataframe tbody tr th:only-of-type {\n",
       "        vertical-align: middle;\n",
       "    }\n",
       "\n",
       "    .dataframe tbody tr th {\n",
       "        vertical-align: top;\n",
       "    }\n",
       "\n",
       "    .dataframe thead th {\n",
       "        text-align: right;\n",
       "    }\n",
       "</style>\n",
       "<table border=\"1\" class=\"dataframe\">\n",
       "  <thead>\n",
       "    <tr style=\"text-align: right;\">\n",
       "      <th></th>\n",
       "      <th>Pregnancies</th>\n",
       "      <th>Glucose</th>\n",
       "      <th>BloodPressure</th>\n",
       "      <th>SkinThickness</th>\n",
       "      <th>Insulin</th>\n",
       "      <th>BMI</th>\n",
       "      <th>DiabetesPedigreeFunction</th>\n",
       "      <th>Age</th>\n",
       "      <th>Labels</th>\n",
       "    </tr>\n",
       "  </thead>\n",
       "  <tbody>\n",
       "    <tr>\n",
       "      <th>622</th>\n",
       "      <td>6</td>\n",
       "      <td>183</td>\n",
       "      <td>94</td>\n",
       "      <td>0</td>\n",
       "      <td>0</td>\n",
       "      <td>40.8</td>\n",
       "      <td>1.461</td>\n",
       "      <td>45</td>\n",
       "      <td>0</td>\n",
       "    </tr>\n",
       "    <tr>\n",
       "      <th>18</th>\n",
       "      <td>1</td>\n",
       "      <td>103</td>\n",
       "      <td>30</td>\n",
       "      <td>38</td>\n",
       "      <td>83</td>\n",
       "      <td>43.3</td>\n",
       "      <td>0.183</td>\n",
       "      <td>33</td>\n",
       "      <td>0</td>\n",
       "    </tr>\n",
       "    <tr>\n",
       "      <th>337</th>\n",
       "      <td>5</td>\n",
       "      <td>115</td>\n",
       "      <td>76</td>\n",
       "      <td>0</td>\n",
       "      <td>0</td>\n",
       "      <td>31.2</td>\n",
       "      <td>0.343</td>\n",
       "      <td>44</td>\n",
       "      <td>1</td>\n",
       "    </tr>\n",
       "    <tr>\n",
       "      <th>560</th>\n",
       "      <td>6</td>\n",
       "      <td>125</td>\n",
       "      <td>76</td>\n",
       "      <td>0</td>\n",
       "      <td>0</td>\n",
       "      <td>33.8</td>\n",
       "      <td>0.121</td>\n",
       "      <td>54</td>\n",
       "      <td>1</td>\n",
       "    </tr>\n",
       "    <tr>\n",
       "      <th>605</th>\n",
       "      <td>1</td>\n",
       "      <td>124</td>\n",
       "      <td>60</td>\n",
       "      <td>32</td>\n",
       "      <td>0</td>\n",
       "      <td>35.8</td>\n",
       "      <td>0.514</td>\n",
       "      <td>21</td>\n",
       "      <td>0</td>\n",
       "    </tr>\n",
       "  </tbody>\n",
       "</table>\n",
       "</div>"
      ],
      "text/plain": [
       "     Pregnancies  Glucose  BloodPressure  SkinThickness  Insulin   BMI  \\\n",
       "622            6      183             94              0        0  40.8   \n",
       "18             1      103             30             38       83  43.3   \n",
       "337            5      115             76              0        0  31.2   \n",
       "560            6      125             76              0        0  33.8   \n",
       "605            1      124             60             32        0  35.8   \n",
       "\n",
       "     DiabetesPedigreeFunction  Age  Labels  \n",
       "622                     1.461   45       0  \n",
       "18                      0.183   33       0  \n",
       "337                     0.343   44       1  \n",
       "560                     0.121   54       1  \n",
       "605                     0.514   21       0  "
      ]
     },
     "execution_count": 382,
     "metadata": {},
     "output_type": "execute_result"
    }
   ],
   "source": [
    "X_train, X_test, y_train, y_test = train_test_split(DIAB_X, DIAB_y, test_size= TS)\n",
    "\n",
    "DIAB_train= pd.concat([X_train, y_train], axis= 1)\n",
    "DIAB_train.columns = list(DIAB.columns[:-1]) + ['Labels']\n",
    "DIAB_train.head()"
   ]
  },
  {
   "cell_type": "code",
   "execution_count": 383,
   "id": "c609c0cf",
   "metadata": {},
   "outputs": [
    {
     "name": "stdout",
     "output_type": "stream",
     "text": [
      "69\n"
     ]
    }
   ],
   "source": [
    "NB_DIAB = NaiveBayes(DIAB_train)\n",
    "y_pred = NB_DIAB.test_database(X_test)\n",
    "\n",
    "count = 0\n",
    "for a,b in zip(y_pred, y_test):\n",
    "    if(a != b): count += 1\n",
    "print(count)"
   ]
  },
  {
   "cell_type": "code",
   "execution_count": 384,
   "id": "f8682006",
   "metadata": {},
   "outputs": [
    {
     "data": {
      "image/png": "[encoded data removed]",
      "text/plain": [
       "<Figure size 640x480 with 2 Axes>"
      ]
     },
     "metadata": {},
     "output_type": "display_data"
    }
   ],
   "source": [
    "cm = confusion_matrix(y_test, y_pred)\n",
    "disp = ConfusionMatrixDisplay(confusion_matrix=cm)\n",
    "disp.plot()\n",
    "plt.title('Confusion Matrix')\n",
    "plt.show()"
   ]
  },
  {
   "cell_type": "code",
   "execution_count": 385,
   "id": "2f022930",
   "metadata": {},
   "outputs": [
    {
     "name": "stdout",
     "output_type": "stream",
     "text": [
      "              precision    recall  f1-score   support\n",
      "\n",
      "           0       0.84      0.84      0.84       213\n",
      "           1       0.64      0.63      0.63        95\n",
      "\n",
      "    accuracy                           0.78       308\n",
      "   macro avg       0.74      0.74      0.74       308\n",
      "weighted avg       0.78      0.78      0.78       308\n",
      "\n"
     ]
    }
   ],
   "source": [
    "print(classification_report(y_test, y_pred))"
   ]
  },
  {
   "cell_type": "code",
   "execution_count": 386,
   "id": "6ebdaae9",
   "metadata": {},
   "outputs": [
    {
     "name": "stdout",
     "output_type": "stream",
     "text": [
      "Number of mislabeled points out of a total 308 points : 69\n"
     ]
    }
   ],
   "source": [
    "gnb = GaussianNB()\n",
    "y_pred = gnb.fit(X_train, y_train).predict(X_test)\n",
    "print(\"Number of mislabeled points out of a total %d points : %d\"\n",
    "      % (X_test.shape[0], (y_test != y_pred).sum()))"
   ]
  },
  {
   "cell_type": "code",
   "execution_count": 387,
   "id": "83066a0b",
   "metadata": {},
   "outputs": [
    {
     "data": {
      "image/png": "[encoded data removed]",
      "text/plain": [
       "<Figure size 640x480 with 2 Axes>"
      ]
     },
     "metadata": {},
     "output_type": "display_data"
    }
   ],
   "source": [
    "cm = confusion_matrix(y_test, y_pred)\n",
    "disp = ConfusionMatrixDisplay(confusion_matrix=cm)\n",
    "disp.plot()\n",
    "plt.title('Confusion Matrix')\n",
    "plt.show()"
   ]
  },
  {
   "cell_type": "code",
   "execution_count": 388,
   "id": "4354fa16",
   "metadata": {},
   "outputs": [
    {
     "name": "stdout",
     "output_type": "stream",
     "text": [
      "              precision    recall  f1-score   support\n",
      "\n",
      "           0       0.84      0.84      0.84       213\n",
      "           1       0.64      0.63      0.63        95\n",
      "\n",
      "    accuracy                           0.78       308\n",
      "   macro avg       0.74      0.74      0.74       308\n",
      "weighted avg       0.78      0.78      0.78       308\n",
      "\n"
     ]
    }
   ],
   "source": [
    "print(classification_report(y_test, y_pred))"
   ]
  }
 ],
 "metadata": {
  "kernelspec": {
   "display_name": ".venv (3.12.0)",
   "language": "python",
   "name": "python3"
  },
  "language_info": {
   "codemirror_mode": {
    "name": "ipython",
    "version": 3
   },
   "file_extension": ".py",
   "mimetype": "text/x-python",
   "name": "python",
   "nbconvert_exporter": "python",
   "pygments_lexer": "ipython3",
   "version": "3.12.0"
  }
 },
 "nbformat": 4,
 "nbformat_minor": 5
}
