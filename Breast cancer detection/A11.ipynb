{
 "cells": [
  {
   "cell_type": "markdown",
   "metadata": {},
   "source": [
    "## Combined KNN and Logistic Regression\n",
    "### Anshurup gupta 2301ai02"
   ]
  },
  {
   "cell_type": "code",
   "execution_count": 27,
   "metadata": {},
   "outputs": [],
   "source": [
    "import pandas as pd\n",
    "import numpy as np\n",
    "import matplotlib.pyplot as plt"
   ]
  },
  {
   "cell_type": "code",
   "execution_count": 28,
   "metadata": {},
   "outputs": [],
   "source": [
    "err = 1.0e-9    # addtional term for precision and to avoid divide by zero error and such\n",
    "\n",
    "# base class to manipulate pandas data frame\n",
    "class BaseData:\n",
    "    def __init__(self, df: pd.DataFrame, dataSplit):\n",
    "        self.accuracy = 0\n",
    "        self.count_val = []\n",
    "\n",
    "        freq = df[\"diagnosis\"].value_counts()\n",
    "        #print(freq)\n",
    "\n",
    "        indexb = int(freq[0] * dataSplit)\n",
    "        indexm = freq[0] + int(freq[1] * dataSplit)\n",
    "        #print(indexb, indexm)\n",
    "\n",
    "        # evenly splitting the samples for test and train\n",
    "        self.train_data = pd.concat([df.iloc[:indexb], df.iloc[freq[0] + 1:indexm]], axis= 0).reset_index(drop= True)\n",
    "        self.test_data = pd.concat([df.iloc[indexb:freq[0] + 1], df.iloc[indexm:]], axis= 0).reset_index(drop= True)\n",
    "        \n",
    "        # Shuffle the DataFrame\n",
    "        self.train_data = self.train_data.sample(frac=1).reset_index(drop=True)\n",
    "        self.test_data = self.test_data.sample(frac=1).reset_index(drop=True)\n",
    "\n",
    "        #print(\"train: \",self.train_data[\"diagnosis\"].value_counts())\n",
    "        #print(\"test: \",self.test_data[\"diagnosis\"].value_counts())\n",
    "\n",
    "    # normalisation (required for regression)\n",
    "    def normalise(self, matrix_val : np.array):\n",
    "        max_val = matrix_val.max(axis = 0)\n",
    "        min_val = matrix_val.min(axis = 0)\n",
    "        #print((matrix_val - min_val) / (max_val - min_val))\n",
    "        return (matrix_val - min_val) / (max_val - min_val)\n",
    "\n",
    "    def print_accuracy(self, msg):\n",
    "        print(\"test accuracy: \", self.accuracy)\n",
    "\n",
    "        if(msg):\n",
    "            plt.figure()\n",
    "            plt.plot([i for i in range(len(self.count_val))], self.count_val, color='green')\n",
    "\n",
    "            plt.xlabel('samples')\n",
    "            plt.ylabel('cummulative accuracy')\n",
    "            plt.title('accuracy metric')\n",
    "\n",
    "            plt.show()\n",
    "\n",
    "        self.count_val.clear()\n",
    "        return self.accuracy"
   ]
  },
  {
   "cell_type": "markdown",
   "metadata": {},
   "source": [
    "# KNN"
   ]
  },
  {
   "cell_type": "code",
   "execution_count": 29,
   "metadata": {},
   "outputs": [],
   "source": [
    "class Knn(BaseData):\n",
    "    def __init__(self, df, dataSplit = 0.8, k = 10):\n",
    "        super().__init__(df, dataSplit)\n",
    "        self.k = k\n",
    "\n",
    "    def euclidean_distance(self, x1 : np.array, x2 : np.array): \n",
    "        return (((x1 - x2) ** 2).sum()) ** (1/2)\n",
    "\n",
    "    def get_neighbors(self, x_test): \n",
    "        X_train = self.train_data.iloc[:,1:].to_numpy()\n",
    "        Y_train = np.array(self.train_data.iloc[:, 0].to_numpy(), ndmin= 2).T\n",
    "        \n",
    "        distances = []\n",
    "        for x_train, y_train in zip(X_train, Y_train):\n",
    "            distances.append((self.euclidean_distance(x_test, x_train), y_train))\n",
    "\n",
    "        distances.sort(key= lambda x: x[0])\n",
    "        return distances[0:self.k]\n",
    "\n",
    "    def test_kNN(self, msg = False):\n",
    "        X_test = self.test_data.iloc[:,1:].to_numpy()\n",
    "        Y_test = np.array(self.test_data.iloc[:, 0].to_numpy(), ndmin= 2).T\n",
    "\n",
    "        count = 0\n",
    "        for x_test, y_test in zip(X_test, Y_test):\n",
    "            val = self.predict_kNN(x_test)\n",
    "            if(abs(val - y_test) <= err):\n",
    "                count += 1\n",
    "            self.count_val.append(count / len(X_test))\n",
    "        print(\"KNN:\")\n",
    "        self.accuracy = count / len(X_test)\n",
    "        return self.print_accuracy(msg)\n",
    "\n",
    "    # function to test prediction if required\n",
    "    def predict_kNN(self, x_test): \n",
    "        distances = self.get_neighbors(x_test)\n",
    "        #print(Y_test[0])\n",
    "        count_1 = 0\n",
    "        count_0 = 0\n",
    "        for distance in distances:\n",
    "            if(distance[1] == 1):\n",
    "                count_1 += 1\n",
    "            else:\n",
    "                count_0 += 1\n",
    "        \n",
    "        return 1 if(count_1 > count_0) else 0\n"
   ]
  },
  {
   "cell_type": "markdown",
   "metadata": {},
   "source": [
    "# Logistic Regression"
   ]
  },
  {
   "cell_type": "code",
   "execution_count": 30,
   "metadata": {},
   "outputs": [],
   "source": [
    "class Logistic_Reg(BaseData):\n",
    "    def __init__(self, df, dataSplit = 0.8):\n",
    "        super().__init__(df, dataSplit)\n",
    "\n",
    "    def sigmoid(self, z) -> np.array:\n",
    "        return 1 / (1 + np.exp(-z))\n",
    "    \n",
    "    def D_sigmoid(self, z) -> np.array:\n",
    "        g = self.sigmoid(z)\n",
    "        return g * (1 - g)\n",
    "\n",
    "    def initialize_weights(self, n_features = 1):\n",
    "        x = 1 / n_features\n",
    "        self.W = x * np.random.random((1, n_features))\n",
    "        self.B = x * np.random.rand()\n",
    "\n",
    "        #print(self.W)\n",
    "        #print(self.B)\n",
    "\n",
    "    def compute_cost(self, Y_pred, Y_true):\n",
    "        #binary cross entropy\n",
    "        binary_cross_entropy = np.sum(Y_true * np.log(Y_pred + err) + (1 - Y_true) * np.log(1 - Y_pred + err))\n",
    "        return -binary_cross_entropy / len(Y_true)\n",
    "\n",
    "    def compute_err(self, Y_pred, Y_true):\n",
    "        return -(Y_true / (Y_pred + err) - (1 - Y_true)/(1 - (Y_pred + err)))\n",
    "\n",
    "    def train_logistic_regression(self, learning_rate, num_iterations, threshold = 0.5, msg = False):\n",
    "        X_train = self.normalise(self.train_data.iloc[:,1:].to_numpy())\n",
    "        Y_train = np.array(self.train_data.iloc[:, 0].to_numpy(), ndmin= 2).T\n",
    "\n",
    "        # weight initialisation \n",
    "        self.initialize_weights(X_train.shape[1])\n",
    "\n",
    "        # number of epochs\n",
    "        for epoch in range(num_iterations):\n",
    "            pre_actv = (X_train @ self.W.T + self.B)\n",
    "            Y_pred = self.sigmoid(pre_actv)\n",
    "\n",
    "            err_val = self.compute_cost(Y_pred, Y_train)\n",
    "            if(msg):\n",
    "                print(\"loss: \", err_val)\n",
    "\n",
    "            del_Y = self.compute_err(Y_pred, Y_train)\n",
    "            post_actv = self.D_sigmoid(pre_actv)\n",
    "            del_Err = np.multiply(post_actv, del_Y)\n",
    "\n",
    "            # batch gradient\n",
    "            self.B -= learning_rate * del_Err.sum() / len(X_train)\n",
    "            self.W -= learning_rate * ((X_train.T) @ del_Err).T / len(X_train)\n",
    "\n",
    "        print(\"model:\")\n",
    "        self.test_logistic_regression(threshold, msg)\n",
    "\n",
    "    def test_logistic_regression(self, threshold, msg):\n",
    "        X_test = self.normalise(self.test_data.iloc[:,1:].to_numpy())\n",
    "        Y_test = np.array(self.test_data.iloc[:, 0].to_numpy(), ndmin= 2).T\n",
    "        \n",
    "        val = self.sigmoid(X_test @ self.W.T + self.B)\n",
    "        print(\"test loss: \", self.compute_cost(val, Y_test))\n",
    "\n",
    "        # final answer given in binary always\n",
    "        Y_pred = np.where((val > threshold), 1, 0)\n",
    "        count = 0\n",
    "        for i in range(len(Y_test)):\n",
    "            # comment out this line\n",
    "            #if(i < 5):\n",
    "            #    print(val[i], Y_test[i])\n",
    "\n",
    "            if(abs(Y_pred[i] - Y_test[i]) <= err): \n",
    "                count += 1\n",
    "            self.count_val.append(count / len(X_test))\n",
    "        self.accuracy = count / len(Y_test)\n",
    "        self.print_accuracy(msg)\n",
    "\n",
    "    # function to test prediction if required\n",
    "    def predict_logistic_regression(self, X_test, threshold = 0.5):\n",
    "        X_test = self.normalise(self.test_data.iloc[:,1:].to_numpy())\n",
    "        Y_pred = self.sigmoid(X_test @ self.W.T + self.B)\n",
    "        Y_pred = np.where((Y_pred > threshold), 1, 0)\n",
    "        return Y_pred"
   ]
  },
  {
   "cell_type": "markdown",
   "metadata": {},
   "source": [
    "### CSV data"
   ]
  },
  {
   "cell_type": "code",
   "execution_count": 31,
   "metadata": {},
   "outputs": [],
   "source": [
    "def check_data(n = 10):\n",
    "    df = pd.read_csv(\"data.csv\")\n",
    "    df = df.drop(\"id\", axis=\"columns\").drop(\"blank\", axis=\"columns\")\n",
    "    df[\"diagnosis\"] = np.where(df[\"diagnosis\"] == 'M', 1, 0)\n",
    "    df = df.sort_values(by=\"diagnosis\")\n",
    "    print(df.head(n))\n",
    "\n",
    "#check_data()"
   ]
  },
  {
   "cell_type": "markdown",
   "metadata": {},
   "source": [
    "## Main body"
   ]
  },
  {
   "cell_type": "code",
   "execution_count": 32,
   "metadata": {},
   "outputs": [
    {
     "name": "stdout",
     "output_type": "stream",
     "text": [
      "KNN:\n",
      "test accuracy:  0.9137931034482759\n",
      "loss:  0.6976728279905812\n",
      "loss:  0.6933042191793942\n",
      "loss:  0.6891864029659056\n",
      "loss:  0.685286150830747\n",
      "loss:  0.6815749486010375\n",
      "loss:  0.6780283537528745\n",
      "loss:  0.6746254312154939\n",
      "loss:  0.6713482609060647\n",
      "loss:  0.6681815098618488\n",
      "loss:  0.6651120618960682\n",
      "model:\n",
      "test loss:  0.6574208710839752\n",
      "test accuracy:  0.9310344827586207\n"
     ]
    },
    {
     "data": {
      "image/png": "[encoded data removed]",
      "text/plain": [
       "<Figure size 640x480 with 1 Axes>"
      ]
     },
     "metadata": {},
     "output_type": "display_data"
    }
   ],
   "source": [
    "def main():\n",
    "    df = pd.read_csv(\"data.csv\")\n",
    "    df = df.drop(\"id\", axis=\"columns\").drop(\"blank\", axis=\"columns\")\n",
    "    df[\"diagnosis\"] = np.where(df[\"diagnosis\"] == 'M', 1, 0)\n",
    "    df = df.sort_values(by=\"diagnosis\")\n",
    "\n",
    "    # For Knn\n",
    "    knn = Knn(df, 0.8, 5)\n",
    "    knn.test_kNN(False)\n",
    "\n",
    "    # For Logistic Regression\n",
    "    LogRef = Logistic_Reg(df, 0.8)\n",
    "    LogRef.train_logistic_regression(0.1, 10, 0.5, True)\n",
    "\n",
    "    return\n",
    "\n",
    "main()"
   ]
  },
  {
   "cell_type": "markdown",
   "metadata": {},
   "source": [
    "#### Discussion\n",
    "KNN performs better only if accuracy is considered, however if the time complexity and other factors aretaken in account, it will be much slower for each test than model.\n",
    "\n",
    "The more number of K allows for more points which are nearby the test point to be considered whenpredicting the class, this gives more coherent answer and we are able to get a higher accuracy.\n",
    "\n",
    "The Limitations of Logistic Regression is the that if the weights are randomly initalised the number ofepochs to get the optimal solutions will vary. This causes drops in the model's accuracy. However oncetraining is done the mdoel will be much faster to predict.\n",
    "\n",
    "Knn will have a stable accuracy at the cost of being computationally very slow. This is the majordisadvantage as the knn will have to calculate the sld for every test case paired with each training data."
   ]
  },
  {
   "cell_type": "code",
   "execution_count": 33,
   "metadata": {},
   "outputs": [
    {
     "name": "stdout",
     "output_type": "stream",
     "text": [
      "KNN:\n",
      "test accuracy:  0.9224137931034483\n",
      "KNN:\n",
      "test accuracy:  0.9137931034482759\n",
      "KNN:\n",
      "test accuracy:  0.9137931034482759\n",
      "KNN:\n",
      "test accuracy:  0.9310344827586207\n"
     ]
    },
    {
     "data": {
      "image/png": "[encoded data removed]",
      "text/plain": [
       "<Figure size 640x480 with 1 Axes>"
      ]
     },
     "metadata": {},
     "output_type": "display_data"
    }
   ],
   "source": [
    "def Knn_analysis():\n",
    "    df = pd.read_csv(\"data.csv\")\n",
    "    df = df.drop(\"id\", axis=\"columns\").drop(\"blank\", axis=\"columns\")\n",
    "    df[\"diagnosis\"] = np.where(df[\"diagnosis\"] == 'M', 1, 0)\n",
    "    df = df.sort_values(by=\"diagnosis\")\n",
    "\n",
    "    tests = []\n",
    "\n",
    "    # Knn anlysis\n",
    "    for i in range(1, 9, 2):\n",
    "        knn = Knn(df, 0.8, i)\n",
    "        val = knn.test_kNN(False)\n",
    "        tests.append(val)\n",
    "\n",
    "    plt.figure()\n",
    "    plt.plot([(2 * i + 1) for i in range(len(tests))], tests, color='orange')\n",
    "    plt.xlabel('k')\n",
    "    plt.ylabel('accuracy')\n",
    "    plt.title('accuracy vs k')\n",
    "    plt.show()\n",
    "\n",
    "    return\n",
    "\n",
    "Knn_analysis()"
   ]
  }
 ],
 "metadata": {
  "kernelspec": {
   "display_name": ".venv",
   "language": "python",
   "name": "python3"
  },
  "language_info": {
   "codemirror_mode": {
    "name": "ipython",
    "version": 3
   },
   "file_extension": ".py",
   "mimetype": "text/x-python",
   "name": "python",
   "nbconvert_exporter": "python",
   "pygments_lexer": "ipython3",
   "version": "3.11.4"
  }
 },
 "nbformat": 4,
 "nbformat_minor": 2
}
